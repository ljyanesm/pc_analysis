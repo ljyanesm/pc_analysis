{
 "cells": [
  {
   "cell_type": "code",
   "execution_count": null,
   "metadata": {
    "collapsed": false
   },
   "outputs": [],
   "source": [
    "%pylab inline"
   ]
  },
  {
   "cell_type": "code",
   "execution_count": null,
   "metadata": {
    "collapsed": true
   },
   "outputs": [],
   "source": [
    "from plyfile import PlyData, PlyElement"
   ]
  },
  {
   "cell_type": "code",
   "execution_count": null,
   "metadata": {
    "collapsed": true
   },
   "outputs": [],
   "source": [
    "import glob"
   ]
  },
  {
   "cell_type": "code",
   "execution_count": null,
   "metadata": {
    "collapsed": true
   },
   "outputs": [],
   "source": [
    "def binner(data, binsize_cm, min_elevation):\n",
    "    zmax = numpy.max(data['z'])\n",
    "    xmin = numpy.min(data['x'])\n",
    "    xmax = numpy.max(data['x'])\n",
    "    ymin = numpy.min(data['y'])\n",
    "    ymax = numpy.max(data['y'])\n",
    "    \n",
    "    xbinsize = (xmax-xmin)/binsize_cm\n",
    "    ybinsize = (ymax-ymin)/binsize_cm\n",
    "    \n",
    "    data['x'] = mapper(data['x'], xmin, xmax)\n",
    "    data['y'] = mapper(data['y'], ymin, ymax)\n",
    "\n",
    "    hpoints = np.full((xbinsize,ybinsize), 0, dtype='float')\n",
    "\n",
    "    xLen = xmax-xmin\n",
    "    yLen = ymax-ymin\n",
    "\n",
    "    for point in data:\n",
    "        xapos = int(point[0]/xLen * xbinsize)-1\n",
    "        yapos = int(point[1]/yLen * ybinsize)-1\n",
    "        if hpoints[xapos][yapos] < point[2]:\n",
    "            hpoints[xapos][yapos] = point[2]\n",
    "    \n",
    "    return hpoints"
   ]
  },
  {
   "cell_type": "code",
   "execution_count": null,
   "metadata": {
    "collapsed": false
   },
   "outputs": [],
   "source": [
    "@np.vectorize\n",
    "def mapper(x, a, b):\n",
    "    length = b-a\n",
    "    return (x-a)/length * length"
   ]
  },
  {
   "cell_type": "code",
   "execution_count": null,
   "metadata": {
    "collapsed": false
   },
   "outputs": [],
   "source": [
    "in_files = glob.glob(\"/home/yanesl/Documents/exported_data_20160928_155653+0100/B/f00001_20*/*/*ply\")\n",
    "o_files = []\n",
    "b_files = []\n",
    "for f in in_files:\n",
    "    if \"sx001\" not in f:\n",
    "        if \"boundary\" not in f:\n",
    "            o_files.append(f)\n",
    "        else:\n",
    "            b_files.append(f)"
   ]
  },
  {
   "cell_type": "code",
   "execution_count": null,
   "metadata": {
    "collapsed": false
   },
   "outputs": [],
   "source": [
    "for o, b in zip(o_files,b_files):\n",
    "    boundarydata = PlyData.read(b)\n",
    "    Odata        = PlyData.read(o)\n",
    "\n",
    "    filename = ''.join(b.split(\"/\")[-1].split(\"_\")[0:3])\n",
    "    \n",
    "    odata = Odata['vertex'][:]\n",
    "    bdata = boundarydata['vertex'][:]\n",
    "    \n",
    "    mean_height = mean(odata['z'])\n",
    "    high = 2.*numpy.std(odata['z']) +mean_height\n",
    "    mid = mean_height\n",
    "    \n",
    "    plt.figure(figsize=(10,20))\n",
    "    ax1 = plt.subplot(1,3,1)\n",
    "    plt.imshow(binner(odata, 1.3, high).transpose(), interpolation='gaussian')\n",
    "    plt.colorbar()\n",
    "    ax2 = plt.subplot(1,3,2,sharex=ax1, sharey=ax1)\n",
    "    plt.imshow(binner(odata[ (odata['z'] > 600) & (odata['z'] < 800) ], 1.3, high).transpose(), interpolation='gaussian')\n",
    "    plt.colorbar()\n",
    "    ax3 = plt.subplot(1,3,3, sharex=ax1, sharey=ax1)\n",
    "    plt.imshow(binner(odata[ (odata['z'] < 10) | (odata['z'] > 800) ], 1.3, high).transpose(), interpolation='gaussian')\n",
    "    plt.colorbar()\n",
    "    plt.savefig(filename+\".png\", format=\"png\")\n",
    "    plt.close()"
   ]
  },
  {
   "cell_type": "code",
   "execution_count": null,
   "metadata": {
    "collapsed": false
   },
   "outputs": [],
   "source": [
    "plt.figure(figsize=(10,10))\n",
    "plt.hist(bdata['z'][bdata['z']>50].flatten(), bins=70);"
   ]
  },
  {
   "cell_type": "code",
   "execution_count": null,
   "metadata": {
    "collapsed": false,
    "scrolled": true
   },
   "outputs": [],
   "source": [
    "print mean_height\n",
    "print high\n",
    "print mid\n",
    "\n",
    "print numpy.max(odata['y'])\n",
    "print numpy.max(odata['x'])"
   ]
  },
  {
   "cell_type": "code",
   "execution_count": null,
   "metadata": {
    "collapsed": true
   },
   "outputs": [],
   "source": []
  },
  {
   "cell_type": "code",
   "execution_count": null,
   "metadata": {
    "collapsed": false
   },
   "outputs": [],
   "source": [
    "# plt.xlim(0,760)\n",
    "# plt.ylim(0,6000)\n"
   ]
  },
  {
   "cell_type": "code",
   "execution_count": null,
   "metadata": {
    "collapsed": false
   },
   "outputs": [],
   "source": []
  },
  {
   "cell_type": "code",
   "execution_count": null,
   "metadata": {
    "collapsed": true
   },
   "outputs": [],
   "source": []
  }
 ],
 "metadata": {
  "kernelspec": {
   "display_name": "Python 2",
   "language": "python",
   "name": "python2"
  },
  "language_info": {
   "codemirror_mode": {
    "name": "ipython",
    "version": 2
   },
   "file_extension": ".py",
   "mimetype": "text/x-python",
   "name": "python",
   "nbconvert_exporter": "python",
   "pygments_lexer": "ipython2",
   "version": "2.7.12"
  }
 },
 "nbformat": 4,
 "nbformat_minor": 1
}
